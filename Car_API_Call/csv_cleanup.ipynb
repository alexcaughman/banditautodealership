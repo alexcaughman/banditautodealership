{
 "cells": [
  {
   "cell_type": "code",
   "execution_count": 1,
   "metadata": {},
   "outputs": [],
   "source": [
    "# import dependencies\n",
    "import requests\n",
    "import time\n",
    "import json\n",
    "from sqlalchemy import create_engine\n",
    "import pandas as pd\n",
    "import random \n",
    "\n",
    "# import api key\n",
    "from password import carskey "
   ]
  },
  {
   "cell_type": "code",
   "execution_count": 4,
   "metadata": {},
   "outputs": [
    {
     "data": {
      "text/plain": [
       "32189"
      ]
     },
     "execution_count": 4,
     "metadata": {},
     "output_type": "execute_result"
    }
   ],
   "source": [
    "# load in csv \n",
    "cars_file = \"../load-csv/vehicles_final.csv\"\n",
    "cars_df = pd.read_csv(cars_file)\n",
    "len(cars_df)"
   ]
  },
  {
   "cell_type": "code",
   "execution_count": 14,
   "metadata": {},
   "outputs": [
    {
     "data": {
      "text/plain": [
       "25563"
      ]
     },
     "execution_count": 14,
     "metadata": {},
     "output_type": "execute_result"
    }
   ],
   "source": [
    "unique_vin = cars_df.drop_duplicates()\n",
    "len(unique_vin)"
   ]
  },
  {
   "cell_type": "code",
   "execution_count": 23,
   "metadata": {},
   "outputs": [
    {
     "data": {
      "text/html": [
       "<div>\n",
       "<style scoped>\n",
       "    .dataframe tbody tr th:only-of-type {\n",
       "        vertical-align: middle;\n",
       "    }\n",
       "\n",
       "    .dataframe tbody tr th {\n",
       "        vertical-align: top;\n",
       "    }\n",
       "\n",
       "    .dataframe thead th {\n",
       "        text-align: right;\n",
       "    }\n",
       "</style>\n",
       "<table border=\"1\" class=\"dataframe\">\n",
       "  <thead>\n",
       "    <tr style=\"text-align: right;\">\n",
       "      <th></th>\n",
       "      <th>vin</th>\n",
       "      <th>price</th>\n",
       "      <th>condition</th>\n",
       "      <th>fuel</th>\n",
       "      <th>size</th>\n",
       "      <th>type</th>\n",
       "      <th>odometer</th>\n",
       "      <th>state</th>\n",
       "      <th>lat</th>\n",
       "      <th>long</th>\n",
       "    </tr>\n",
       "  </thead>\n",
       "  <tbody>\n",
       "    <tr>\n",
       "      <th>0</th>\n",
       "      <td>1GTHK23D57F102022</td>\n",
       "      <td>16995</td>\n",
       "      <td>good</td>\n",
       "      <td>diesel</td>\n",
       "      <td>full-size</td>\n",
       "      <td>truck</td>\n",
       "      <td>254217.0</td>\n",
       "      <td>mn</td>\n",
       "      <td>45.6836</td>\n",
       "      <td>-92.9648</td>\n",
       "    </tr>\n",
       "    <tr>\n",
       "      <th>1</th>\n",
       "      <td>1FTFW1ET4CFC98801</td>\n",
       "      <td>13995</td>\n",
       "      <td>good</td>\n",
       "      <td>gas</td>\n",
       "      <td>full-size</td>\n",
       "      <td>truck</td>\n",
       "      <td>188406.0</td>\n",
       "      <td>mn</td>\n",
       "      <td>45.6836</td>\n",
       "      <td>-92.9648</td>\n",
       "    </tr>\n",
       "    <tr>\n",
       "      <th>2</th>\n",
       "      <td>2CNFLGEW7A6215676</td>\n",
       "      <td>7995</td>\n",
       "      <td>good</td>\n",
       "      <td>gas</td>\n",
       "      <td>full-size</td>\n",
       "      <td>SUV</td>\n",
       "      <td>108124.0</td>\n",
       "      <td>mn</td>\n",
       "      <td>45.6836</td>\n",
       "      <td>-92.9648</td>\n",
       "    </tr>\n",
       "    <tr>\n",
       "      <th>3</th>\n",
       "      <td>1GNKVGEDXBJ124683</td>\n",
       "      <td>8995</td>\n",
       "      <td>good</td>\n",
       "      <td>gas</td>\n",
       "      <td>full-size</td>\n",
       "      <td>SUV</td>\n",
       "      <td>178054.0</td>\n",
       "      <td>mn</td>\n",
       "      <td>45.6836</td>\n",
       "      <td>-92.9648</td>\n",
       "    </tr>\n",
       "    <tr>\n",
       "      <th>4</th>\n",
       "      <td>1FM5K8D85EGC51332</td>\n",
       "      <td>10995</td>\n",
       "      <td>good</td>\n",
       "      <td>gas</td>\n",
       "      <td>full-size</td>\n",
       "      <td>SUV</td>\n",
       "      <td>170259.0</td>\n",
       "      <td>mn</td>\n",
       "      <td>45.6836</td>\n",
       "      <td>-92.9648</td>\n",
       "    </tr>\n",
       "  </tbody>\n",
       "</table>\n",
       "</div>"
      ],
      "text/plain": [
       "                 vin  price condition    fuel       size   type  odometer  \\\n",
       "0  1GTHK23D57F102022  16995      good  diesel  full-size  truck  254217.0   \n",
       "1  1FTFW1ET4CFC98801  13995      good     gas  full-size  truck  188406.0   \n",
       "2  2CNFLGEW7A6215676   7995      good     gas  full-size    SUV  108124.0   \n",
       "3  1GNKVGEDXBJ124683   8995      good     gas  full-size    SUV  178054.0   \n",
       "4  1FM5K8D85EGC51332  10995      good     gas  full-size    SUV  170259.0   \n",
       "\n",
       "  state      lat     long  \n",
       "0    mn  45.6836 -92.9648  \n",
       "1    mn  45.6836 -92.9648  \n",
       "2    mn  45.6836 -92.9648  \n",
       "3    mn  45.6836 -92.9648  \n",
       "4    mn  45.6836 -92.9648  "
      ]
     },
     "execution_count": 23,
     "metadata": {},
     "output_type": "execute_result"
    }
   ],
   "source": [
    "filtered_df = unique_vin[unique_vin['price']>0]\n",
    "len(filtered_df)\n",
    "filterd_df.head()"
   ]
  },
  {
   "cell_type": "code",
   "execution_count": 29,
   "metadata": {},
   "outputs": [
    {
     "data": {
      "text/plain": [
       "23535"
      ]
     },
     "execution_count": 29,
     "metadata": {},
     "output_type": "execute_result"
    }
   ],
   "source": [
    "filter_vin = filtered_df[filtered_df.vin.str.len() > 10]\n",
    "len(filter_vin)"
   ]
  },
  {
   "cell_type": "code",
   "execution_count": 33,
   "metadata": {},
   "outputs": [
    {
     "name": "stdout",
     "output_type": "stream",
     "text": [
      "0        1GTHK23D57F102022\n",
      "1        1FTFW1ET4CFC98801\n",
      "2        2CNFLGEW7A6215676\n",
      "3        1GNKVGEDXBJ124683\n",
      "4        1FM5K8D85EGC51332\n",
      "               ...        \n",
      "32184    1D4PU4GX6BW517450\n",
      "32185    4S4BRBLC2E3222010\n",
      "32186    5NMS2CAD6KH129627\n",
      "32187    JTDZN3EU4D3218193\n",
      "32188    JF2SHADC8CH441457\n",
      "Name: vin, Length: 23535, dtype: object\n"
     ]
    }
   ],
   "source": [
    "print(filter_vin['vin'])"
   ]
  },
  {
   "cell_type": "code",
   "execution_count": 34,
   "metadata": {},
   "outputs": [],
   "source": [
    "# putting vin numbers from df to list\n",
    "vin_list = ['1GTHK23D57F102022','1FTFW1ET4CFC98801','2CNFLGEW7A6215676','1GNKVGEDXBJ124683','1FM5K8D85EGC51332']"
   ]
  },
  {
   "cell_type": "code",
   "execution_count": 35,
   "metadata": {},
   "outputs": [
    {
     "name": "stdout",
     "output_type": "stream",
     "text": [
      "1GTHK23D57F102022\n",
      "1FTFW1ET4CFC98801\n",
      "2CNFLGEW7A6215676\n",
      "1GNKVGEDXBJ124683\n",
      "1FM5K8D85EGC51332\n"
     ]
    }
   ],
   "source": [
    "# loop through cars in vin list to get information, place in empyt list\n",
    "\n",
    "car_value_list = []\n",
    "\n",
    "for car in vin_list: \n",
    "    print(car)\n",
    "    \n",
    "#     getting car specifications\n",
    "    search_url = \"http://api.carsxe.com/specs?key=\"+carskey+\"&vin=\"+car\n",
    "    \n",
    "\n",
    "    try:\n",
    "        response = requests.get(search_url)\n",
    "        car_json = response.json()\n",
    "\n",
    "        if car_json['success'] == True:\n",
    "            # creat car dictionary\n",
    "            car_dict = {\n",
    "            \"Vin\": car,\n",
    "            \"Year\": car_json['attributes']['year'] if \"year\" in car_json['attributes'] else None,\n",
    "            \"Make\": car_json['attributes']['make'] if \"make\" in car_json['attributes'] else None,\n",
    "            \"Model\": car_json['attributes']['model'] if \"model\" in car_json['attributes'] else None,\n",
    "            \"Style\": car_json['attributes']['style'] if \"style\" in car_json['attributes'] else None,\n",
    "            \"Type\": car_json['attributes']['type'] if \"type\" in car_json['attributes'] else None,\n",
    "            \"Doors\": car_json['attributes']['doors'] if \"doors\" in car_json['attributes'] else None,\n",
    "            \"Fuel Type\": car_json['attributes']['fuel_type'] if \"fuel_type\" in car_json['attributes'] else None,\n",
    "            \"City Mileage\": car_json['attributes']['city_mileage'] if \"city_mileage\" in car_json['attributes'] else None,\n",
    "            \"Highway Mileage\": car_json['attributes']['highway_mileage'] if \"highway_mileage\" in car_json['attributes'] else None,\n",
    "            \"Engine Type\": car_json['attributes']['engine'] if \"engine\" in car_json['attributes'] else None,\n",
    "            \"Transmission\": car_json['attributes']['transmission_short'] if \"transmission_short\" in car_json['attributes'] else None,\n",
    "            \"Drivetrain\": car_json['attributes']['drivetrain'] if \"drivetrain\" in car_json['attributes'] else None,\n",
    "            \"MSRP\": car_json['attributes']['manufacturer_suggested_retail_price'] if \"manufacturer_suggested_retail_price\" in car_json['attributes'] else None,\n",
    "            }\n",
    "\n",
    "            # push to car_value_list\n",
    "            car_value_list.append(car_dict)\n",
    "\n",
    "        else:\n",
    "            pass\n",
    "    except:\n",
    "        pass"
   ]
  },
  {
   "cell_type": "code",
   "execution_count": 38,
   "metadata": {},
   "outputs": [
    {
     "data": {
      "text/plain": [
       "{'Vin': '1GTHK23D57F102022',\n",
       " 'Year': '2007',\n",
       " 'Make': 'GMC',\n",
       " 'Model': 'Sierra Classic 2500HD',\n",
       " 'Style': 'CREW CAB PICKUP 4-DR',\n",
       " 'Type': 'Pickup',\n",
       " 'Doors': '4',\n",
       " 'Fuel Type': 'Gasoline',\n",
       " 'City Mileage': '',\n",
       " 'Highway Mileage': '',\n",
       " 'Engine Type': '6.6L V8 OHV 32V TURBO DIESEL',\n",
       " 'Transmission': '4A | 5M | 6A | 6M',\n",
       " 'Drivetrain': '4WD',\n",
       " 'MSRP': '$32,690 USD'}"
      ]
     },
     "execution_count": 38,
     "metadata": {},
     "output_type": "execute_result"
    }
   ],
   "source": [
    "car_value_list[0]"
   ]
  },
  {
   "cell_type": "code",
   "execution_count": 40,
   "metadata": {},
   "outputs": [],
   "source": [
    "car_value_df = pd.DataFrame(car_value_list)"
   ]
  },
  {
   "cell_type": "code",
   "execution_count": 43,
   "metadata": {},
   "outputs": [],
   "source": [
    "car_value_df.to_csv('practice_data.csv',index=False)"
   ]
  },
  {
   "cell_type": "code",
   "execution_count": null,
   "metadata": {},
   "outputs": [],
   "source": []
  }
 ],
 "metadata": {
  "kernelspec": {
   "display_name": "Python [conda env:PythonData]",
   "language": "python",
   "name": "conda-env-PythonData-py"
  },
  "language_info": {
   "codemirror_mode": {
    "name": "ipython",
    "version": 3
   },
   "file_extension": ".py",
   "mimetype": "text/x-python",
   "name": "python",
   "nbconvert_exporter": "python",
   "pygments_lexer": "ipython3",
   "version": "3.6.10"
  }
 },
 "nbformat": 4,
 "nbformat_minor": 4
}
