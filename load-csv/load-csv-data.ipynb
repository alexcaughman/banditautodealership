{
 "metadata": {
  "language_info": {
   "codemirror_mode": {
    "name": "ipython",
    "version": 3
   },
   "file_extension": ".py",
   "mimetype": "text/x-python",
   "name": "python",
   "nbconvert_exporter": "python",
   "pygments_lexer": "ipython3",
   "version": "3.6.10-final"
  },
  "orig_nbformat": 2,
  "kernelspec": {
   "name": "python361064bitpythondataconda2a9a3c884c40400db426ae2e3e580487",
   "display_name": "Python 3.6.10 64-bit ('PythonData': conda)"
  }
 },
 "nbformat": 4,
 "nbformat_minor": 2,
 "cells": [
  {
   "cell_type": "code",
   "execution_count": 1,
   "metadata": {},
   "outputs": [],
   "source": [
    "import pandas as pd\n",
    "\n",
    "data_file = 'vehicles.csv'"
   ]
  },
  {
   "cell_type": "code",
   "execution_count": 2,
   "metadata": {},
   "outputs": [
    {
     "output_type": "execute_result",
     "data": {
      "text/plain": "           id                                                url  \\\n0  7184791621  https://duluth.craigslist.org/ctd/d/duluth-200...   \n1  7184773187  https://duluth.craigslist.org/cto/d/saginaw-20...   \n2  7193375964  https://newhaven.craigslist.org/cto/d/stratfor...   \n3  7195108810  https://albuquerque.craigslist.org/cto/d/albuq...   \n4  7184712241  https://duluth.craigslist.org/ctd/d/rush-city-...   \n\n              region                          region_url  price    year  \\\n0  duluth / superior       https://duluth.craigslist.org   6995  2000.0   \n1  duluth / superior       https://duluth.craigslist.org   8750  2013.0   \n2          new haven     https://newhaven.craigslist.org  10900  2013.0   \n3        albuquerque  https://albuquerque.craigslist.org  12500  2003.0   \n4  duluth / superior       https://duluth.craigslist.org  16995  2007.0   \n\n  manufacturer                  model  condition    cylinders  ... drive  \\\n0          gmc        new sierra 1500  excellent  8 cylinders  ...   4wd   \n1      hyundai                 sonata  excellent  4 cylinders  ...   fwd   \n2       toyota                  prius       good  4 cylinders  ...   fwd   \n3   mitsubishi                 lancer       good  4 cylinders  ...   4wd   \n4          gmc  sierra classic 2500hd       good  8 cylinders  ...   4wd   \n\n        size   type paint_color  \\\n0        NaN    NaN         red   \n1        NaN    NaN        grey   \n2        NaN    NaN        blue   \n3   mid-size  sedan        grey   \n4  full-size  truck       white   \n\n                                           image_url  \\\n0  https://images.craigslist.org/00n0n_f06ykBMcdh...   \n1  https://images.craigslist.org/00d0d_kgZ6xoeRw2...   \n2  https://images.craigslist.org/00d0d_3sHGxPbY2O...   \n3  https://images.craigslist.org/00m0m_4a8Pb6JbMG...   \n4  https://images.craigslist.org/01414_g093aPtSMW...   \n\n                                         description county state      lat  \\\n0  2000 *** GMC New Sierra 1500 Ext Cab 157.5  WB...    NaN    mn  46.8433   \n1  For Sale:  2013 Hyundai Sonata GLS - $8750.  O...    NaN    mn  46.9074   \n2  2013 Prius V Model Two. One owner—must sell my...    NaN    ct  41.1770   \n3  2003 Mitsubishi Lancer Evolution, silver.  Abo...    NaN    nm  35.1868   \n4  **Bad Credit, No Credit... No Problem!**2007 G...    NaN    mn  45.6836   \n\n       long  \n0  -92.2550  \n1  -92.4638  \n2  -73.1336  \n3 -106.6650  \n4  -92.9648  \n\n[5 rows x 25 columns]",
      "text/html": "<div>\n<style scoped>\n    .dataframe tbody tr th:only-of-type {\n        vertical-align: middle;\n    }\n\n    .dataframe tbody tr th {\n        vertical-align: top;\n    }\n\n    .dataframe thead th {\n        text-align: right;\n    }\n</style>\n<table border=\"1\" class=\"dataframe\">\n  <thead>\n    <tr style=\"text-align: right;\">\n      <th></th>\n      <th>id</th>\n      <th>url</th>\n      <th>region</th>\n      <th>region_url</th>\n      <th>price</th>\n      <th>year</th>\n      <th>manufacturer</th>\n      <th>model</th>\n      <th>condition</th>\n      <th>cylinders</th>\n      <th>...</th>\n      <th>drive</th>\n      <th>size</th>\n      <th>type</th>\n      <th>paint_color</th>\n      <th>image_url</th>\n      <th>description</th>\n      <th>county</th>\n      <th>state</th>\n      <th>lat</th>\n      <th>long</th>\n    </tr>\n  </thead>\n  <tbody>\n    <tr>\n      <th>0</th>\n      <td>7184791621</td>\n      <td>https://duluth.craigslist.org/ctd/d/duluth-200...</td>\n      <td>duluth / superior</td>\n      <td>https://duluth.craigslist.org</td>\n      <td>6995</td>\n      <td>2000.0</td>\n      <td>gmc</td>\n      <td>new sierra 1500</td>\n      <td>excellent</td>\n      <td>8 cylinders</td>\n      <td>...</td>\n      <td>4wd</td>\n      <td>NaN</td>\n      <td>NaN</td>\n      <td>red</td>\n      <td>https://images.craigslist.org/00n0n_f06ykBMcdh...</td>\n      <td>2000 *** GMC New Sierra 1500 Ext Cab 157.5  WB...</td>\n      <td>NaN</td>\n      <td>mn</td>\n      <td>46.8433</td>\n      <td>-92.2550</td>\n    </tr>\n    <tr>\n      <th>1</th>\n      <td>7184773187</td>\n      <td>https://duluth.craigslist.org/cto/d/saginaw-20...</td>\n      <td>duluth / superior</td>\n      <td>https://duluth.craigslist.org</td>\n      <td>8750</td>\n      <td>2013.0</td>\n      <td>hyundai</td>\n      <td>sonata</td>\n      <td>excellent</td>\n      <td>4 cylinders</td>\n      <td>...</td>\n      <td>fwd</td>\n      <td>NaN</td>\n      <td>NaN</td>\n      <td>grey</td>\n      <td>https://images.craigslist.org/00d0d_kgZ6xoeRw2...</td>\n      <td>For Sale:  2013 Hyundai Sonata GLS - $8750.  O...</td>\n      <td>NaN</td>\n      <td>mn</td>\n      <td>46.9074</td>\n      <td>-92.4638</td>\n    </tr>\n    <tr>\n      <th>2</th>\n      <td>7193375964</td>\n      <td>https://newhaven.craigslist.org/cto/d/stratfor...</td>\n      <td>new haven</td>\n      <td>https://newhaven.craigslist.org</td>\n      <td>10900</td>\n      <td>2013.0</td>\n      <td>toyota</td>\n      <td>prius</td>\n      <td>good</td>\n      <td>4 cylinders</td>\n      <td>...</td>\n      <td>fwd</td>\n      <td>NaN</td>\n      <td>NaN</td>\n      <td>blue</td>\n      <td>https://images.craigslist.org/00d0d_3sHGxPbY2O...</td>\n      <td>2013 Prius V Model Two. One owner—must sell my...</td>\n      <td>NaN</td>\n      <td>ct</td>\n      <td>41.1770</td>\n      <td>-73.1336</td>\n    </tr>\n    <tr>\n      <th>3</th>\n      <td>7195108810</td>\n      <td>https://albuquerque.craigslist.org/cto/d/albuq...</td>\n      <td>albuquerque</td>\n      <td>https://albuquerque.craigslist.org</td>\n      <td>12500</td>\n      <td>2003.0</td>\n      <td>mitsubishi</td>\n      <td>lancer</td>\n      <td>good</td>\n      <td>4 cylinders</td>\n      <td>...</td>\n      <td>4wd</td>\n      <td>mid-size</td>\n      <td>sedan</td>\n      <td>grey</td>\n      <td>https://images.craigslist.org/00m0m_4a8Pb6JbMG...</td>\n      <td>2003 Mitsubishi Lancer Evolution, silver.  Abo...</td>\n      <td>NaN</td>\n      <td>nm</td>\n      <td>35.1868</td>\n      <td>-106.6650</td>\n    </tr>\n    <tr>\n      <th>4</th>\n      <td>7184712241</td>\n      <td>https://duluth.craigslist.org/ctd/d/rush-city-...</td>\n      <td>duluth / superior</td>\n      <td>https://duluth.craigslist.org</td>\n      <td>16995</td>\n      <td>2007.0</td>\n      <td>gmc</td>\n      <td>sierra classic 2500hd</td>\n      <td>good</td>\n      <td>8 cylinders</td>\n      <td>...</td>\n      <td>4wd</td>\n      <td>full-size</td>\n      <td>truck</td>\n      <td>white</td>\n      <td>https://images.craigslist.org/01414_g093aPtSMW...</td>\n      <td>**Bad Credit, No Credit... No Problem!**2007 G...</td>\n      <td>NaN</td>\n      <td>mn</td>\n      <td>45.6836</td>\n      <td>-92.9648</td>\n    </tr>\n  </tbody>\n</table>\n<p>5 rows × 25 columns</p>\n</div>"
     },
     "metadata": {},
     "execution_count": 2
    }
   ],
   "source": [
    "# create data frame from loaded file\n",
    "car_data = pd.read_csv(data_file)\n",
    "car_data.head()"
   ]
  },
  {
   "cell_type": "code",
   "execution_count": 3,
   "metadata": {
    "tags": []
   },
   "outputs": [
    {
     "output_type": "stream",
     "name": "stdout",
     "text": "<class 'pandas.core.frame.DataFrame'>\nRangeIndex: 423857 entries, 0 to 423856\nData columns (total 25 columns):\n #   Column        Non-Null Count   Dtype  \n---  ------        --------------   -----  \n 0   id            423857 non-null  int64  \n 1   url           423857 non-null  object \n 2   region        423857 non-null  object \n 3   region_url    423857 non-null  object \n 4   price         423857 non-null  int64  \n 5   year          328743 non-null  float64\n 6   manufacturer  313242 non-null  object \n 7   model         325384 non-null  object \n 8   condition     176719 non-null  object \n 9   cylinders     197679 non-null  object \n 10  fuel          327214 non-null  object \n 11  odometer      270585 non-null  float64\n 12  title_status  327759 non-null  object \n 13  transmission  328065 non-null  object \n 14  vin           184420 non-null  object \n 15  drive         231119 non-null  object \n 16  size          102627 non-null  object \n 17  type          241157 non-null  object \n 18  paint_color   222203 non-null  object \n 19  image_url     329661 non-null  object \n 20  description   329654 non-null  object \n 21  county        0 non-null       float64\n 22  state         423857 non-null  object \n 23  lat           324404 non-null  float64\n 24  long          324404 non-null  float64\ndtypes: float64(5), int64(2), object(18)\nmemory usage: 80.8+ MB\n"
    }
   ],
   "source": [
    "# review rows\n",
    "car_data.info()"
   ]
  },
  {
   "cell_type": "code",
   "execution_count": 4,
   "metadata": {},
   "outputs": [],
   "source": [
    "# filter out empty values for important data points\n",
    "car_data_filtered = car_data.loc[(car_data['drive'].notnull()) & (car_data['vin'].notnull()) & (car_data['state'].notnull()) & (car_data['lat'].notnull()) & (car_data['long'].notnull()) & (car_data['odometer'].notnull()) & (car_data['manufacturer'].notnull()) & (car_data['condition'].notnull()) & (car_data['size'].notnull()) & (car_data['type'].notnull())]"
   ]
  },
  {
   "cell_type": "code",
   "execution_count": 5,
   "metadata": {
    "tags": []
   },
   "outputs": [
    {
     "output_type": "stream",
     "name": "stdout",
     "text": "<class 'pandas.core.frame.DataFrame'>\nInt64Index: 32189 entries, 4 to 423849\nData columns (total 25 columns):\n #   Column        Non-Null Count  Dtype  \n---  ------        --------------  -----  \n 0   id            32189 non-null  int64  \n 1   url           32189 non-null  object \n 2   region        32189 non-null  object \n 3   region_url    32189 non-null  object \n 4   price         32189 non-null  int64  \n 5   year          32189 non-null  float64\n 6   manufacturer  32189 non-null  object \n 7   model         32046 non-null  object \n 8   condition     32189 non-null  object \n 9   cylinders     31520 non-null  object \n 10  fuel          32189 non-null  object \n 11  odometer      32189 non-null  float64\n 12  title_status  32189 non-null  object \n 13  transmission  32147 non-null  object \n 14  vin           32189 non-null  object \n 15  drive         32189 non-null  object \n 16  size          32189 non-null  object \n 17  type          32189 non-null  object \n 18  paint_color   30933 non-null  object \n 19  image_url     32189 non-null  object \n 20  description   32189 non-null  object \n 21  county        0 non-null      float64\n 22  state         32189 non-null  object \n 23  lat           32189 non-null  float64\n 24  long          32189 non-null  float64\ndtypes: float64(5), int64(2), object(18)\nmemory usage: 6.4+ MB\n"
    }
   ],
   "source": [
    "car_data_filtered.info()"
   ]
  },
  {
   "cell_type": "code",
   "execution_count": 6,
   "metadata": {},
   "outputs": [
    {
     "output_type": "execute_result",
     "data": {
      "text/plain": "                 vin  price condition    fuel       size   type  odometer  \\\n4  1GTHK23D57F102022  16995      good  diesel  full-size  truck  254217.0   \n5  1FTFW1ET4CFC98801  13995      good     gas  full-size  truck  188406.0   \n6  2CNFLGEW7A6215676   7995      good     gas  full-size    SUV  108124.0   \n7  1GNKVGEDXBJ124683   8995      good     gas  full-size    SUV  178054.0   \n8  1FM5K8D85EGC51332  10995      good     gas  full-size    SUV  170259.0   \n\n  state      lat     long  \n4    mn  45.6836 -92.9648  \n5    mn  45.6836 -92.9648  \n6    mn  45.6836 -92.9648  \n7    mn  45.6836 -92.9648  \n8    mn  45.6836 -92.9648  ",
      "text/html": "<div>\n<style scoped>\n    .dataframe tbody tr th:only-of-type {\n        vertical-align: middle;\n    }\n\n    .dataframe tbody tr th {\n        vertical-align: top;\n    }\n\n    .dataframe thead th {\n        text-align: right;\n    }\n</style>\n<table border=\"1\" class=\"dataframe\">\n  <thead>\n    <tr style=\"text-align: right;\">\n      <th></th>\n      <th>vin</th>\n      <th>price</th>\n      <th>condition</th>\n      <th>fuel</th>\n      <th>size</th>\n      <th>type</th>\n      <th>odometer</th>\n      <th>state</th>\n      <th>lat</th>\n      <th>long</th>\n    </tr>\n  </thead>\n  <tbody>\n    <tr>\n      <th>4</th>\n      <td>1GTHK23D57F102022</td>\n      <td>16995</td>\n      <td>good</td>\n      <td>diesel</td>\n      <td>full-size</td>\n      <td>truck</td>\n      <td>254217.0</td>\n      <td>mn</td>\n      <td>45.6836</td>\n      <td>-92.9648</td>\n    </tr>\n    <tr>\n      <th>5</th>\n      <td>1FTFW1ET4CFC98801</td>\n      <td>13995</td>\n      <td>good</td>\n      <td>gas</td>\n      <td>full-size</td>\n      <td>truck</td>\n      <td>188406.0</td>\n      <td>mn</td>\n      <td>45.6836</td>\n      <td>-92.9648</td>\n    </tr>\n    <tr>\n      <th>6</th>\n      <td>2CNFLGEW7A6215676</td>\n      <td>7995</td>\n      <td>good</td>\n      <td>gas</td>\n      <td>full-size</td>\n      <td>SUV</td>\n      <td>108124.0</td>\n      <td>mn</td>\n      <td>45.6836</td>\n      <td>-92.9648</td>\n    </tr>\n    <tr>\n      <th>7</th>\n      <td>1GNKVGEDXBJ124683</td>\n      <td>8995</td>\n      <td>good</td>\n      <td>gas</td>\n      <td>full-size</td>\n      <td>SUV</td>\n      <td>178054.0</td>\n      <td>mn</td>\n      <td>45.6836</td>\n      <td>-92.9648</td>\n    </tr>\n    <tr>\n      <th>8</th>\n      <td>1FM5K8D85EGC51332</td>\n      <td>10995</td>\n      <td>good</td>\n      <td>gas</td>\n      <td>full-size</td>\n      <td>SUV</td>\n      <td>170259.0</td>\n      <td>mn</td>\n      <td>45.6836</td>\n      <td>-92.9648</td>\n    </tr>\n  </tbody>\n</table>\n</div>"
     },
     "metadata": {},
     "execution_count": 6
    }
   ],
   "source": [
    "# create final dataframe for export\n",
    "vehicles_final = car_data_filtered[['vin','price','condition','fuel','size','type','odometer','state','lat','long']]\n",
    "vehicles_final.head()"
   ]
  },
  {
   "cell_type": "code",
   "execution_count": 7,
   "metadata": {
    "tags": []
   },
   "outputs": [
    {
     "output_type": "stream",
     "name": "stdout",
     "text": "<class 'pandas.core.frame.DataFrame'>\nInt64Index: 32189 entries, 4 to 423849\nData columns (total 10 columns):\n #   Column     Non-Null Count  Dtype  \n---  ------     --------------  -----  \n 0   vin        32189 non-null  object \n 1   price      32189 non-null  int64  \n 2   condition  32189 non-null  object \n 3   fuel       32189 non-null  object \n 4   size       32189 non-null  object \n 5   type       32189 non-null  object \n 6   odometer   32189 non-null  float64\n 7   state      32189 non-null  object \n 8   lat        32189 non-null  float64\n 9   long       32189 non-null  float64\ndtypes: float64(3), int64(1), object(6)\nmemory usage: 2.7+ MB\n"
    }
   ],
   "source": [
    "vehicles_final.info()"
   ]
  },
  {
   "cell_type": "code",
   "execution_count": 8,
   "metadata": {},
   "outputs": [
    {
     "output_type": "execute_result",
     "data": {
      "text/plain": "17"
     },
     "metadata": {},
     "execution_count": 8
    }
   ],
   "source": [
    "# column 'size' info for PostgreSQL table\n",
    "vehicles_final['vin'].map(lambda x: len(x)).max()"
   ]
  },
  {
   "cell_type": "code",
   "execution_count": 9,
   "metadata": {},
   "outputs": [],
   "source": [
    "# export csv to load into PostgreSQL\n",
    "vehicles_final.to_csv('vehicles_final.csv', index = False)"
   ]
  },
  {
   "cell_type": "code",
   "execution_count": null,
   "metadata": {},
   "outputs": [],
   "source": []
  }
 ]
}