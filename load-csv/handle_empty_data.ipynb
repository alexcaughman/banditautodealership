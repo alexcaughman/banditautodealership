{
 "metadata": {
  "language_info": {
   "codemirror_mode": {
    "name": "ipython",
    "version": 3
   },
   "file_extension": ".py",
   "mimetype": "text/x-python",
   "name": "python",
   "nbconvert_exporter": "python",
   "pygments_lexer": "ipython3",
   "version": "3.7.6-final"
  },
  "orig_nbformat": 2,
  "kernelspec": {
   "name": "Python 3.7.6 64-bit ('base')",
   "display_name": "Python 3.7.6 64-bit ('base')",
   "metadata": {
    "interpreter": {
     "hash": "a7c7cf02936555a926081e340d16758079a1a460b110bff974aa35e573c9bf1b"
    }
   }
  }
 },
 "nbformat": 4,
 "nbformat_minor": 2,
 "cells": [
  {
   "cell_type": "code",
   "execution_count": 1,
   "metadata": {},
   "outputs": [
    {
     "output_type": "execute_result",
     "data": {
      "text/plain": "                 Vin  Year       Make  ... state      lat     long\n0  1FTFW1ET4CFC98801  2012       Ford  ...    mn  45.6836 -92.9648\n1  1FTFW1ET4CFC98801  2012       Ford  ...    wi  45.6836 -92.9648\n2  2CNFLGEW7A6215676  2010  Chevrolet  ...    mn  45.6836 -92.9648\n3  2CNFLGEW7A6215676  2010  Chevrolet  ...    wi  45.6836 -92.9648\n4  1GNKVGEDXBJ124683  2011  Chevrolet  ...    mn  45.6836 -92.9648\n\n[5 rows x 22 columns]",
      "text/html": "<div>\n<style scoped>\n    .dataframe tbody tr th:only-of-type {\n        vertical-align: middle;\n    }\n\n    .dataframe tbody tr th {\n        vertical-align: top;\n    }\n\n    .dataframe thead th {\n        text-align: right;\n    }\n</style>\n<table border=\"1\" class=\"dataframe\">\n  <thead>\n    <tr style=\"text-align: right;\">\n      <th></th>\n      <th>Vin</th>\n      <th>Year</th>\n      <th>Make</th>\n      <th>Model</th>\n      <th>Style</th>\n      <th>Type</th>\n      <th>Doors</th>\n      <th>Fuel Type</th>\n      <th>City Mileage</th>\n      <th>Highway Mileage</th>\n      <th>Engine Type</th>\n      <th>Transmission</th>\n      <th>Drivetrain</th>\n      <th>MSRP</th>\n      <th>price</th>\n      <th>condition</th>\n      <th>fuel</th>\n      <th>size</th>\n      <th>odometer</th>\n      <th>state</th>\n      <th>lat</th>\n      <th>long</th>\n    </tr>\n  </thead>\n  <tbody>\n    <tr>\n      <th>0</th>\n      <td>1FTFW1ET4CFC98801</td>\n      <td>2012</td>\n      <td>Ford</td>\n      <td>F-150</td>\n      <td>CREW CAB PICKUP 4-DR</td>\n      <td>Pickup</td>\n      <td>NaN</td>\n      <td>Gasoline</td>\n      <td>14 - 15 miles/gallon</td>\n      <td>19 - 21 miles/gallon</td>\n      <td>3.5L V6 TURBO</td>\n      <td>6A</td>\n      <td>4WD</td>\n      <td>$39,960 USD</td>\n      <td>13995</td>\n      <td>good</td>\n      <td>gas</td>\n      <td>full-size</td>\n      <td>188406.0</td>\n      <td>mn</td>\n      <td>45.6836</td>\n      <td>-92.9648</td>\n    </tr>\n    <tr>\n      <th>1</th>\n      <td>1FTFW1ET4CFC98801</td>\n      <td>2012</td>\n      <td>Ford</td>\n      <td>F-150</td>\n      <td>CREW CAB PICKUP 4-DR</td>\n      <td>Pickup</td>\n      <td>NaN</td>\n      <td>Gasoline</td>\n      <td>14 - 15 miles/gallon</td>\n      <td>19 - 21 miles/gallon</td>\n      <td>3.5L V6 TURBO</td>\n      <td>6A</td>\n      <td>4WD</td>\n      <td>$39,960 USD</td>\n      <td>13995</td>\n      <td>good</td>\n      <td>gas</td>\n      <td>full-size</td>\n      <td>188406.0</td>\n      <td>wi</td>\n      <td>45.6836</td>\n      <td>-92.9648</td>\n    </tr>\n    <tr>\n      <th>2</th>\n      <td>2CNFLGEW7A6215676</td>\n      <td>2010</td>\n      <td>Chevrolet</td>\n      <td>Equinox</td>\n      <td>SPORT UTILITY 4-DR</td>\n      <td>Sport Utility Vehicle (SUV)/Multi-Purpose Vehi...</td>\n      <td>4.0</td>\n      <td>Gasoline</td>\n      <td>17 - 20 miles/gallon</td>\n      <td>24 - 27 miles/gallon</td>\n      <td>2.4L L4 DOHC 16V</td>\n      <td>6A</td>\n      <td>AWD</td>\n      <td>$29,795 USD</td>\n      <td>7995</td>\n      <td>good</td>\n      <td>gas</td>\n      <td>full-size</td>\n      <td>108124.0</td>\n      <td>mn</td>\n      <td>45.6836</td>\n      <td>-92.9648</td>\n    </tr>\n    <tr>\n      <th>3</th>\n      <td>2CNFLGEW7A6215676</td>\n      <td>2010</td>\n      <td>Chevrolet</td>\n      <td>Equinox</td>\n      <td>SPORT UTILITY 4-DR</td>\n      <td>Sport Utility Vehicle (SUV)/Multi-Purpose Vehi...</td>\n      <td>4.0</td>\n      <td>Gasoline</td>\n      <td>17 - 20 miles/gallon</td>\n      <td>24 - 27 miles/gallon</td>\n      <td>2.4L L4 DOHC 16V</td>\n      <td>6A</td>\n      <td>AWD</td>\n      <td>$29,795 USD</td>\n      <td>7995</td>\n      <td>good</td>\n      <td>gas</td>\n      <td>full-size</td>\n      <td>108124.0</td>\n      <td>wi</td>\n      <td>45.6836</td>\n      <td>-92.9648</td>\n    </tr>\n    <tr>\n      <th>4</th>\n      <td>1GNKVGEDXBJ124683</td>\n      <td>2011</td>\n      <td>Chevrolet</td>\n      <td>Traverse</td>\n      <td>SPORT UTILITY 4-DR</td>\n      <td>Sport Utility Vehicle (SUV)/Multi-Purpose Vehi...</td>\n      <td>4.0</td>\n      <td>Gasoline</td>\n      <td>16 miles/gallon</td>\n      <td>23 miles/gallon</td>\n      <td>3.6L V6 DOHC 24V</td>\n      <td>6A</td>\n      <td>AWD</td>\n      <td>$33,865 USD</td>\n      <td>8995</td>\n      <td>good</td>\n      <td>gas</td>\n      <td>full-size</td>\n      <td>178054.0</td>\n      <td>mn</td>\n      <td>45.6836</td>\n      <td>-92.9648</td>\n    </tr>\n  </tbody>\n</table>\n</div>"
     },
     "metadata": {},
     "execution_count": 1
    }
   ],
   "source": [
    "import pandas as pd\n",
    "\n",
    "merged_data = pd.read_csv('../Car_API_Call/merged_data.csv')\n",
    "\n",
    "merged_data.head()"
   ]
  },
  {
   "cell_type": "code",
   "execution_count": 2,
   "metadata": {},
   "outputs": [
    {
     "output_type": "execute_result",
     "data": {
      "text/plain": "                 Vin  Year       Make  ... state      lat     long\n0  1FTFW1ET4CFC98801  2012       Ford  ...    mn  45.6836 -92.9648\n1  1FTFW1ET4CFC98801  2012       Ford  ...    wi  45.6836 -92.9648\n2  2CNFLGEW7A6215676  2010  Chevrolet  ...    mn  45.6836 -92.9648\n3  2CNFLGEW7A6215676  2010  Chevrolet  ...    wi  45.6836 -92.9648\n4  1GNKVGEDXBJ124683  2011  Chevrolet  ...    mn  45.6836 -92.9648\n\n[5 rows x 22 columns]",
      "text/html": "<div>\n<style scoped>\n    .dataframe tbody tr th:only-of-type {\n        vertical-align: middle;\n    }\n\n    .dataframe tbody tr th {\n        vertical-align: top;\n    }\n\n    .dataframe thead th {\n        text-align: right;\n    }\n</style>\n<table border=\"1\" class=\"dataframe\">\n  <thead>\n    <tr style=\"text-align: right;\">\n      <th></th>\n      <th>Vin</th>\n      <th>Year</th>\n      <th>Make</th>\n      <th>Model</th>\n      <th>Style</th>\n      <th>Type</th>\n      <th>Doors</th>\n      <th>Fuel Type</th>\n      <th>City Mileage</th>\n      <th>Highway Mileage</th>\n      <th>Engine Type</th>\n      <th>Transmission</th>\n      <th>Drivetrain</th>\n      <th>MSRP</th>\n      <th>price</th>\n      <th>condition</th>\n      <th>fuel</th>\n      <th>size</th>\n      <th>odometer</th>\n      <th>state</th>\n      <th>lat</th>\n      <th>long</th>\n    </tr>\n  </thead>\n  <tbody>\n    <tr>\n      <th>0</th>\n      <td>1FTFW1ET4CFC98801</td>\n      <td>2012</td>\n      <td>Ford</td>\n      <td>F-150</td>\n      <td>CREW CAB PICKUP 4-DR</td>\n      <td>Pickup</td>\n      <td>NULL</td>\n      <td>Gasoline</td>\n      <td>14 - 15 miles/gallon</td>\n      <td>19 - 21 miles/gallon</td>\n      <td>3.5L V6 TURBO</td>\n      <td>6A</td>\n      <td>4WD</td>\n      <td>$39,960 USD</td>\n      <td>13995</td>\n      <td>good</td>\n      <td>gas</td>\n      <td>full-size</td>\n      <td>188406.0</td>\n      <td>mn</td>\n      <td>45.6836</td>\n      <td>-92.9648</td>\n    </tr>\n    <tr>\n      <th>1</th>\n      <td>1FTFW1ET4CFC98801</td>\n      <td>2012</td>\n      <td>Ford</td>\n      <td>F-150</td>\n      <td>CREW CAB PICKUP 4-DR</td>\n      <td>Pickup</td>\n      <td>NULL</td>\n      <td>Gasoline</td>\n      <td>14 - 15 miles/gallon</td>\n      <td>19 - 21 miles/gallon</td>\n      <td>3.5L V6 TURBO</td>\n      <td>6A</td>\n      <td>4WD</td>\n      <td>$39,960 USD</td>\n      <td>13995</td>\n      <td>good</td>\n      <td>gas</td>\n      <td>full-size</td>\n      <td>188406.0</td>\n      <td>wi</td>\n      <td>45.6836</td>\n      <td>-92.9648</td>\n    </tr>\n    <tr>\n      <th>2</th>\n      <td>2CNFLGEW7A6215676</td>\n      <td>2010</td>\n      <td>Chevrolet</td>\n      <td>Equinox</td>\n      <td>SPORT UTILITY 4-DR</td>\n      <td>Sport Utility Vehicle (SUV)/Multi-Purpose Vehi...</td>\n      <td>4</td>\n      <td>Gasoline</td>\n      <td>17 - 20 miles/gallon</td>\n      <td>24 - 27 miles/gallon</td>\n      <td>2.4L L4 DOHC 16V</td>\n      <td>6A</td>\n      <td>AWD</td>\n      <td>$29,795 USD</td>\n      <td>7995</td>\n      <td>good</td>\n      <td>gas</td>\n      <td>full-size</td>\n      <td>108124.0</td>\n      <td>mn</td>\n      <td>45.6836</td>\n      <td>-92.9648</td>\n    </tr>\n    <tr>\n      <th>3</th>\n      <td>2CNFLGEW7A6215676</td>\n      <td>2010</td>\n      <td>Chevrolet</td>\n      <td>Equinox</td>\n      <td>SPORT UTILITY 4-DR</td>\n      <td>Sport Utility Vehicle (SUV)/Multi-Purpose Vehi...</td>\n      <td>4</td>\n      <td>Gasoline</td>\n      <td>17 - 20 miles/gallon</td>\n      <td>24 - 27 miles/gallon</td>\n      <td>2.4L L4 DOHC 16V</td>\n      <td>6A</td>\n      <td>AWD</td>\n      <td>$29,795 USD</td>\n      <td>7995</td>\n      <td>good</td>\n      <td>gas</td>\n      <td>full-size</td>\n      <td>108124.0</td>\n      <td>wi</td>\n      <td>45.6836</td>\n      <td>-92.9648</td>\n    </tr>\n    <tr>\n      <th>4</th>\n      <td>1GNKVGEDXBJ124683</td>\n      <td>2011</td>\n      <td>Chevrolet</td>\n      <td>Traverse</td>\n      <td>SPORT UTILITY 4-DR</td>\n      <td>Sport Utility Vehicle (SUV)/Multi-Purpose Vehi...</td>\n      <td>4</td>\n      <td>Gasoline</td>\n      <td>16 miles/gallon</td>\n      <td>23 miles/gallon</td>\n      <td>3.6L V6 DOHC 24V</td>\n      <td>6A</td>\n      <td>AWD</td>\n      <td>$33,865 USD</td>\n      <td>8995</td>\n      <td>good</td>\n      <td>gas</td>\n      <td>full-size</td>\n      <td>178054.0</td>\n      <td>mn</td>\n      <td>45.6836</td>\n      <td>-92.9648</td>\n    </tr>\n  </tbody>\n</table>\n</div>"
     },
     "metadata": {},
     "execution_count": 2
    }
   ],
   "source": [
    "merged_data_clean = merged_data.fillna('NULL')\n",
    "merged_data_clean.head()"
   ]
  },
  {
   "cell_type": "code",
   "execution_count": 3,
   "metadata": {},
   "outputs": [],
   "source": [
    "merged_data_clean.to_csv('../Car_API_Call/merged_data_for_load.csv')"
   ]
  },
  {
   "cell_type": "code",
   "execution_count": null,
   "metadata": {},
   "outputs": [],
   "source": []
  }
 ]
}