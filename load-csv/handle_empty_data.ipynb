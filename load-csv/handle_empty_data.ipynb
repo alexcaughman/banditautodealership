{
 "metadata": {
  "language_info": {
   "codemirror_mode": {
    "name": "ipython",
    "version": 3
   },
   "file_extension": ".py",
   "mimetype": "text/x-python",
   "name": "python",
   "nbconvert_exporter": "python",
   "pygments_lexer": "ipython3",
   "version": "3.7.6-final"
  },
  "orig_nbformat": 2,
  "kernelspec": {
   "name": "Python 3.7.6 64-bit ('base': conda)",
   "display_name": "Python 3.7.6 64-bit ('base': conda)",
   "metadata": {
    "interpreter": {
     "hash": "a7c7cf02936555a926081e340d16758079a1a460b110bff974aa35e573c9bf1b"
    }
   }
  }
 },
 "nbformat": 4,
 "nbformat_minor": 2,
 "cells": [
  {
   "cell_type": "code",
   "execution_count": 1,
   "metadata": {},
   "outputs": [
    {
     "output_type": "execute_result",
     "data": {
      "text/plain": "                 vin  price condition    fuel       size   type  odometer  \\\n0  1GTHK23D57F102022  16995      good  diesel  full-size  truck  254217.0   \n1  1FTFW1ET4CFC98801  13995      good     gas  full-size  truck  188406.0   \n2  2CNFLGEW7A6215676   7995      good     gas  full-size    SUV  108124.0   \n3  1GNKVGEDXBJ124683   8995      good     gas  full-size    SUV  178054.0   \n4  1FM5K8D85EGC51332  10995      good     gas  full-size    SUV  170259.0   \n\n  state      lat     long  \n0    mn  45.6836 -92.9648  \n1    mn  45.6836 -92.9648  \n2    mn  45.6836 -92.9648  \n3    mn  45.6836 -92.9648  \n4    mn  45.6836 -92.9648  ",
      "text/html": "<div>\n<style scoped>\n    .dataframe tbody tr th:only-of-type {\n        vertical-align: middle;\n    }\n\n    .dataframe tbody tr th {\n        vertical-align: top;\n    }\n\n    .dataframe thead th {\n        text-align: right;\n    }\n</style>\n<table border=\"1\" class=\"dataframe\">\n  <thead>\n    <tr style=\"text-align: right;\">\n      <th></th>\n      <th>vin</th>\n      <th>price</th>\n      <th>condition</th>\n      <th>fuel</th>\n      <th>size</th>\n      <th>type</th>\n      <th>odometer</th>\n      <th>state</th>\n      <th>lat</th>\n      <th>long</th>\n    </tr>\n  </thead>\n  <tbody>\n    <tr>\n      <th>0</th>\n      <td>1GTHK23D57F102022</td>\n      <td>16995</td>\n      <td>good</td>\n      <td>diesel</td>\n      <td>full-size</td>\n      <td>truck</td>\n      <td>254217.0</td>\n      <td>mn</td>\n      <td>45.6836</td>\n      <td>-92.9648</td>\n    </tr>\n    <tr>\n      <th>1</th>\n      <td>1FTFW1ET4CFC98801</td>\n      <td>13995</td>\n      <td>good</td>\n      <td>gas</td>\n      <td>full-size</td>\n      <td>truck</td>\n      <td>188406.0</td>\n      <td>mn</td>\n      <td>45.6836</td>\n      <td>-92.9648</td>\n    </tr>\n    <tr>\n      <th>2</th>\n      <td>2CNFLGEW7A6215676</td>\n      <td>7995</td>\n      <td>good</td>\n      <td>gas</td>\n      <td>full-size</td>\n      <td>SUV</td>\n      <td>108124.0</td>\n      <td>mn</td>\n      <td>45.6836</td>\n      <td>-92.9648</td>\n    </tr>\n    <tr>\n      <th>3</th>\n      <td>1GNKVGEDXBJ124683</td>\n      <td>8995</td>\n      <td>good</td>\n      <td>gas</td>\n      <td>full-size</td>\n      <td>SUV</td>\n      <td>178054.0</td>\n      <td>mn</td>\n      <td>45.6836</td>\n      <td>-92.9648</td>\n    </tr>\n    <tr>\n      <th>4</th>\n      <td>1FM5K8D85EGC51332</td>\n      <td>10995</td>\n      <td>good</td>\n      <td>gas</td>\n      <td>full-size</td>\n      <td>SUV</td>\n      <td>170259.0</td>\n      <td>mn</td>\n      <td>45.6836</td>\n      <td>-92.9648</td>\n    </tr>\n  </tbody>\n</table>\n</div>"
     },
     "metadata": {},
     "execution_count": 1
    }
   ],
   "source": [
    "# Postgres won't handle NaN data so we need to change it to NULL for import\n",
    "import pandas as pd\n",
    "\n",
    "merged_data = pd.read_csv('vehicles_final.csv')\n",
    "\n",
    "merged_data.head()"
   ]
  },
  {
   "cell_type": "code",
   "execution_count": 2,
   "metadata": {},
   "outputs": [
    {
     "output_type": "execute_result",
     "data": {
      "text/plain": "                 vin  price condition    fuel       size   type  odometer  \\\n0  1GTHK23D57F102022  16995      good  diesel  full-size  truck  254217.0   \n1  1FTFW1ET4CFC98801  13995      good     gas  full-size  truck  188406.0   \n2  2CNFLGEW7A6215676   7995      good     gas  full-size    SUV  108124.0   \n3  1GNKVGEDXBJ124683   8995      good     gas  full-size    SUV  178054.0   \n4  1FM5K8D85EGC51332  10995      good     gas  full-size    SUV  170259.0   \n\n  state      lat     long  \n0    mn  45.6836 -92.9648  \n1    mn  45.6836 -92.9648  \n2    mn  45.6836 -92.9648  \n3    mn  45.6836 -92.9648  \n4    mn  45.6836 -92.9648  ",
      "text/html": "<div>\n<style scoped>\n    .dataframe tbody tr th:only-of-type {\n        vertical-align: middle;\n    }\n\n    .dataframe tbody tr th {\n        vertical-align: top;\n    }\n\n    .dataframe thead th {\n        text-align: right;\n    }\n</style>\n<table border=\"1\" class=\"dataframe\">\n  <thead>\n    <tr style=\"text-align: right;\">\n      <th></th>\n      <th>vin</th>\n      <th>price</th>\n      <th>condition</th>\n      <th>fuel</th>\n      <th>size</th>\n      <th>type</th>\n      <th>odometer</th>\n      <th>state</th>\n      <th>lat</th>\n      <th>long</th>\n    </tr>\n  </thead>\n  <tbody>\n    <tr>\n      <th>0</th>\n      <td>1GTHK23D57F102022</td>\n      <td>16995</td>\n      <td>good</td>\n      <td>diesel</td>\n      <td>full-size</td>\n      <td>truck</td>\n      <td>254217.0</td>\n      <td>mn</td>\n      <td>45.6836</td>\n      <td>-92.9648</td>\n    </tr>\n    <tr>\n      <th>1</th>\n      <td>1FTFW1ET4CFC98801</td>\n      <td>13995</td>\n      <td>good</td>\n      <td>gas</td>\n      <td>full-size</td>\n      <td>truck</td>\n      <td>188406.0</td>\n      <td>mn</td>\n      <td>45.6836</td>\n      <td>-92.9648</td>\n    </tr>\n    <tr>\n      <th>2</th>\n      <td>2CNFLGEW7A6215676</td>\n      <td>7995</td>\n      <td>good</td>\n      <td>gas</td>\n      <td>full-size</td>\n      <td>SUV</td>\n      <td>108124.0</td>\n      <td>mn</td>\n      <td>45.6836</td>\n      <td>-92.9648</td>\n    </tr>\n    <tr>\n      <th>3</th>\n      <td>1GNKVGEDXBJ124683</td>\n      <td>8995</td>\n      <td>good</td>\n      <td>gas</td>\n      <td>full-size</td>\n      <td>SUV</td>\n      <td>178054.0</td>\n      <td>mn</td>\n      <td>45.6836</td>\n      <td>-92.9648</td>\n    </tr>\n    <tr>\n      <th>4</th>\n      <td>1FM5K8D85EGC51332</td>\n      <td>10995</td>\n      <td>good</td>\n      <td>gas</td>\n      <td>full-size</td>\n      <td>SUV</td>\n      <td>170259.0</td>\n      <td>mn</td>\n      <td>45.6836</td>\n      <td>-92.9648</td>\n    </tr>\n  </tbody>\n</table>\n</div>"
     },
     "metadata": {},
     "execution_count": 2
    }
   ],
   "source": [
    "merged_data_clean = merged_data.fillna('NULL')\n",
    "merged_data_clean.head()"
   ]
  },
  {
   "cell_type": "code",
   "execution_count": 3,
   "metadata": {},
   "outputs": [],
   "source": [
    "merged_data_clean.to_csv('../Car_API_Call/merged_data_for_load.csv', index=False)"
   ]
  },
  {
   "cell_type": "code",
   "execution_count": 4,
   "metadata": {},
   "outputs": [
    {
     "output_type": "execute_result",
     "data": {
      "text/plain": "Index(['vin', 'price', 'condition', 'fuel', 'size', 'type', 'odometer',\n       'state', 'lat', 'long'],\n      dtype='object')"
     },
     "metadata": {},
     "execution_count": 4
    }
   ],
   "source": [
    "merged_data_clean.columns"
   ]
  },
  {
   "cell_type": "code",
   "execution_count": null,
   "metadata": {},
   "outputs": [],
   "source": []
  }
 ]
}