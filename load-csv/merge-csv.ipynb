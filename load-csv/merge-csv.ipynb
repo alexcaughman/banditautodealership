{
 "metadata": {
  "language_info": {
   "codemirror_mode": {
    "name": "ipython",
    "version": 3
   },
   "file_extension": ".py",
   "mimetype": "text/x-python",
   "name": "python",
   "nbconvert_exporter": "python",
   "pygments_lexer": "ipython3",
   "version": "3.7.6-final"
  },
  "orig_nbformat": 2,
  "kernelspec": {
   "name": "python_defaultSpec_1600818000588",
   "display_name": "Python 3.7.6 64-bit ('base': conda)"
  }
 },
 "nbformat": 4,
 "nbformat_minor": 2,
 "cells": [
  {
   "cell_type": "code",
   "execution_count": 3,
   "metadata": {},
   "outputs": [],
   "source": [
    "#  Merge Kaggle data (vehicles_final.csv) with API (practice_data.csv)\n",
    "import pandas as pd\n",
    "\n",
    "vehicles_csv = 'vehicles_final.csv'\n",
    "api_csv = '..\\car api call\\practice_data.csv'"
   ]
  },
  {
   "cell_type": "code",
   "execution_count": 7,
   "metadata": {},
   "outputs": [
    {
     "output_type": "execute_result",
     "data": {
      "text/plain": "                 vin  price condition    fuel       size   type  odometer  \\\n0  1GTHK23D57F102022  16995      good  diesel  full-size  truck  254217.0   \n1  1FTFW1ET4CFC98801  13995      good     gas  full-size  truck  188406.0   \n2  2CNFLGEW7A6215676   7995      good     gas  full-size    SUV  108124.0   \n3  1GNKVGEDXBJ124683   8995      good     gas  full-size    SUV  178054.0   \n4  1FM5K8D85EGC51332  10995      good     gas  full-size    SUV  170259.0   \n\n  state      lat     long  \n0    mn  45.6836 -92.9648  \n1    mn  45.6836 -92.9648  \n2    mn  45.6836 -92.9648  \n3    mn  45.6836 -92.9648  \n4    mn  45.6836 -92.9648  ",
      "text/html": "<div>\n<style scoped>\n    .dataframe tbody tr th:only-of-type {\n        vertical-align: middle;\n    }\n\n    .dataframe tbody tr th {\n        vertical-align: top;\n    }\n\n    .dataframe thead th {\n        text-align: right;\n    }\n</style>\n<table border=\"1\" class=\"dataframe\">\n  <thead>\n    <tr style=\"text-align: right;\">\n      <th></th>\n      <th>vin</th>\n      <th>price</th>\n      <th>condition</th>\n      <th>fuel</th>\n      <th>size</th>\n      <th>type</th>\n      <th>odometer</th>\n      <th>state</th>\n      <th>lat</th>\n      <th>long</th>\n    </tr>\n  </thead>\n  <tbody>\n    <tr>\n      <th>0</th>\n      <td>1GTHK23D57F102022</td>\n      <td>16995</td>\n      <td>good</td>\n      <td>diesel</td>\n      <td>full-size</td>\n      <td>truck</td>\n      <td>254217.0</td>\n      <td>mn</td>\n      <td>45.6836</td>\n      <td>-92.9648</td>\n    </tr>\n    <tr>\n      <th>1</th>\n      <td>1FTFW1ET4CFC98801</td>\n      <td>13995</td>\n      <td>good</td>\n      <td>gas</td>\n      <td>full-size</td>\n      <td>truck</td>\n      <td>188406.0</td>\n      <td>mn</td>\n      <td>45.6836</td>\n      <td>-92.9648</td>\n    </tr>\n    <tr>\n      <th>2</th>\n      <td>2CNFLGEW7A6215676</td>\n      <td>7995</td>\n      <td>good</td>\n      <td>gas</td>\n      <td>full-size</td>\n      <td>SUV</td>\n      <td>108124.0</td>\n      <td>mn</td>\n      <td>45.6836</td>\n      <td>-92.9648</td>\n    </tr>\n    <tr>\n      <th>3</th>\n      <td>1GNKVGEDXBJ124683</td>\n      <td>8995</td>\n      <td>good</td>\n      <td>gas</td>\n      <td>full-size</td>\n      <td>SUV</td>\n      <td>178054.0</td>\n      <td>mn</td>\n      <td>45.6836</td>\n      <td>-92.9648</td>\n    </tr>\n    <tr>\n      <th>4</th>\n      <td>1FM5K8D85EGC51332</td>\n      <td>10995</td>\n      <td>good</td>\n      <td>gas</td>\n      <td>full-size</td>\n      <td>SUV</td>\n      <td>170259.0</td>\n      <td>mn</td>\n      <td>45.6836</td>\n      <td>-92.9648</td>\n    </tr>\n  </tbody>\n</table>\n</div>"
     },
     "metadata": {},
     "execution_count": 7
    }
   ],
   "source": [
    "api = pd.read_csv(api_csv)\n",
    "vehicles = pd.read_csv(vehicles_csv)\n"
   ]
  },
  {
   "cell_type": "code",
   "execution_count": 8,
   "metadata": {},
   "outputs": [
    {
     "output_type": "execute_result",
     "data": {
      "text/plain": "                 Vin  Year       Make                  Model  \\\n0  1GTHK23D57F102022  2007        GMC  Sierra Classic 2500HD   \n1  1FTFW1ET4CFC98801  2012       Ford                  F-150   \n2  2CNFLGEW7A6215676  2010  Chevrolet                Equinox   \n3  1GNKVGEDXBJ124683  2011  Chevrolet               Traverse   \n4  1FM5K8D85EGC51332  2014       Ford               Explorer   \n\n                  Style                                               Type  \\\n0  CREW CAB PICKUP 4-DR                                             Pickup   \n1  CREW CAB PICKUP 4-DR                                             Pickup   \n2    SPORT UTILITY 4-DR  Sport Utility Vehicle (SUV)/Multi-Purpose Vehi...   \n3    SPORT UTILITY 4-DR  Sport Utility Vehicle (SUV)/Multi-Purpose Vehi...   \n4    SPORT UTILITY 4-DR  Sport Utility Vehicle (SUV)/Multi-Purpose Vehi...   \n\n   Doors Fuel Type          City Mileage       Highway Mileage  \\\n0    4.0  Gasoline                   NaN                   NaN   \n1    NaN  Gasoline  14 - 15 miles/gallon  19 - 21 miles/gallon   \n2    4.0  Gasoline  17 - 20 miles/gallon  24 - 27 miles/gallon   \n3    4.0  Gasoline       16 miles/gallon       23 miles/gallon   \n4    4.0  Gasoline                   NaN                   NaN   \n\n                    Engine Type       Transmission Drivetrain         MSRP  \n0  6.6L V8 OHV 32V TURBO DIESEL  4A | 5M | 6A | 6M        4WD  $32,690 USD  \n1                 3.5L V6 TURBO                 6A        4WD  $39,960 USD  \n2              2.4L L4 DOHC 16V                 6A        AWD  $29,795 USD  \n3              3.6L V6 DOHC 24V                 6A        AWD  $33,865 USD  \n4              3.5L V6 DOHC 24V                 6A        4WD  $34,600 USD  ",
      "text/html": "<div>\n<style scoped>\n    .dataframe tbody tr th:only-of-type {\n        vertical-align: middle;\n    }\n\n    .dataframe tbody tr th {\n        vertical-align: top;\n    }\n\n    .dataframe thead th {\n        text-align: right;\n    }\n</style>\n<table border=\"1\" class=\"dataframe\">\n  <thead>\n    <tr style=\"text-align: right;\">\n      <th></th>\n      <th>Vin</th>\n      <th>Year</th>\n      <th>Make</th>\n      <th>Model</th>\n      <th>Style</th>\n      <th>Type</th>\n      <th>Doors</th>\n      <th>Fuel Type</th>\n      <th>City Mileage</th>\n      <th>Highway Mileage</th>\n      <th>Engine Type</th>\n      <th>Transmission</th>\n      <th>Drivetrain</th>\n      <th>MSRP</th>\n    </tr>\n  </thead>\n  <tbody>\n    <tr>\n      <th>0</th>\n      <td>1GTHK23D57F102022</td>\n      <td>2007</td>\n      <td>GMC</td>\n      <td>Sierra Classic 2500HD</td>\n      <td>CREW CAB PICKUP 4-DR</td>\n      <td>Pickup</td>\n      <td>4.0</td>\n      <td>Gasoline</td>\n      <td>NaN</td>\n      <td>NaN</td>\n      <td>6.6L V8 OHV 32V TURBO DIESEL</td>\n      <td>4A | 5M | 6A | 6M</td>\n      <td>4WD</td>\n      <td>$32,690 USD</td>\n    </tr>\n    <tr>\n      <th>1</th>\n      <td>1FTFW1ET4CFC98801</td>\n      <td>2012</td>\n      <td>Ford</td>\n      <td>F-150</td>\n      <td>CREW CAB PICKUP 4-DR</td>\n      <td>Pickup</td>\n      <td>NaN</td>\n      <td>Gasoline</td>\n      <td>14 - 15 miles/gallon</td>\n      <td>19 - 21 miles/gallon</td>\n      <td>3.5L V6 TURBO</td>\n      <td>6A</td>\n      <td>4WD</td>\n      <td>$39,960 USD</td>\n    </tr>\n    <tr>\n      <th>2</th>\n      <td>2CNFLGEW7A6215676</td>\n      <td>2010</td>\n      <td>Chevrolet</td>\n      <td>Equinox</td>\n      <td>SPORT UTILITY 4-DR</td>\n      <td>Sport Utility Vehicle (SUV)/Multi-Purpose Vehi...</td>\n      <td>4.0</td>\n      <td>Gasoline</td>\n      <td>17 - 20 miles/gallon</td>\n      <td>24 - 27 miles/gallon</td>\n      <td>2.4L L4 DOHC 16V</td>\n      <td>6A</td>\n      <td>AWD</td>\n      <td>$29,795 USD</td>\n    </tr>\n    <tr>\n      <th>3</th>\n      <td>1GNKVGEDXBJ124683</td>\n      <td>2011</td>\n      <td>Chevrolet</td>\n      <td>Traverse</td>\n      <td>SPORT UTILITY 4-DR</td>\n      <td>Sport Utility Vehicle (SUV)/Multi-Purpose Vehi...</td>\n      <td>4.0</td>\n      <td>Gasoline</td>\n      <td>16 miles/gallon</td>\n      <td>23 miles/gallon</td>\n      <td>3.6L V6 DOHC 24V</td>\n      <td>6A</td>\n      <td>AWD</td>\n      <td>$33,865 USD</td>\n    </tr>\n    <tr>\n      <th>4</th>\n      <td>1FM5K8D85EGC51332</td>\n      <td>2014</td>\n      <td>Ford</td>\n      <td>Explorer</td>\n      <td>SPORT UTILITY 4-DR</td>\n      <td>Sport Utility Vehicle (SUV)/Multi-Purpose Vehi...</td>\n      <td>4.0</td>\n      <td>Gasoline</td>\n      <td>NaN</td>\n      <td>NaN</td>\n      <td>3.5L V6 DOHC 24V</td>\n      <td>6A</td>\n      <td>4WD</td>\n      <td>$34,600 USD</td>\n    </tr>\n  </tbody>\n</table>\n</div>"
     },
     "metadata": {},
     "execution_count": 8
    }
   ],
   "source": [
    "api.head()"
   ]
  },
  {
   "cell_type": "code",
   "execution_count": 9,
   "metadata": {},
   "outputs": [
    {
     "output_type": "execute_result",
     "data": {
      "text/plain": "                 vin  price condition    fuel       size   type  odometer  \\\n0  1GTHK23D57F102022  16995      good  diesel  full-size  truck  254217.0   \n1  1FTFW1ET4CFC98801  13995      good     gas  full-size  truck  188406.0   \n2  2CNFLGEW7A6215676   7995      good     gas  full-size    SUV  108124.0   \n3  1GNKVGEDXBJ124683   8995      good     gas  full-size    SUV  178054.0   \n4  1FM5K8D85EGC51332  10995      good     gas  full-size    SUV  170259.0   \n\n  state      lat     long  \n0    mn  45.6836 -92.9648  \n1    mn  45.6836 -92.9648  \n2    mn  45.6836 -92.9648  \n3    mn  45.6836 -92.9648  \n4    mn  45.6836 -92.9648  ",
      "text/html": "<div>\n<style scoped>\n    .dataframe tbody tr th:only-of-type {\n        vertical-align: middle;\n    }\n\n    .dataframe tbody tr th {\n        vertical-align: top;\n    }\n\n    .dataframe thead th {\n        text-align: right;\n    }\n</style>\n<table border=\"1\" class=\"dataframe\">\n  <thead>\n    <tr style=\"text-align: right;\">\n      <th></th>\n      <th>vin</th>\n      <th>price</th>\n      <th>condition</th>\n      <th>fuel</th>\n      <th>size</th>\n      <th>type</th>\n      <th>odometer</th>\n      <th>state</th>\n      <th>lat</th>\n      <th>long</th>\n    </tr>\n  </thead>\n  <tbody>\n    <tr>\n      <th>0</th>\n      <td>1GTHK23D57F102022</td>\n      <td>16995</td>\n      <td>good</td>\n      <td>diesel</td>\n      <td>full-size</td>\n      <td>truck</td>\n      <td>254217.0</td>\n      <td>mn</td>\n      <td>45.6836</td>\n      <td>-92.9648</td>\n    </tr>\n    <tr>\n      <th>1</th>\n      <td>1FTFW1ET4CFC98801</td>\n      <td>13995</td>\n      <td>good</td>\n      <td>gas</td>\n      <td>full-size</td>\n      <td>truck</td>\n      <td>188406.0</td>\n      <td>mn</td>\n      <td>45.6836</td>\n      <td>-92.9648</td>\n    </tr>\n    <tr>\n      <th>2</th>\n      <td>2CNFLGEW7A6215676</td>\n      <td>7995</td>\n      <td>good</td>\n      <td>gas</td>\n      <td>full-size</td>\n      <td>SUV</td>\n      <td>108124.0</td>\n      <td>mn</td>\n      <td>45.6836</td>\n      <td>-92.9648</td>\n    </tr>\n    <tr>\n      <th>3</th>\n      <td>1GNKVGEDXBJ124683</td>\n      <td>8995</td>\n      <td>good</td>\n      <td>gas</td>\n      <td>full-size</td>\n      <td>SUV</td>\n      <td>178054.0</td>\n      <td>mn</td>\n      <td>45.6836</td>\n      <td>-92.9648</td>\n    </tr>\n    <tr>\n      <th>4</th>\n      <td>1FM5K8D85EGC51332</td>\n      <td>10995</td>\n      <td>good</td>\n      <td>gas</td>\n      <td>full-size</td>\n      <td>SUV</td>\n      <td>170259.0</td>\n      <td>mn</td>\n      <td>45.6836</td>\n      <td>-92.9648</td>\n    </tr>\n  </tbody>\n</table>\n</div>"
     },
     "metadata": {},
     "execution_count": 9
    }
   ],
   "source": [
    "vehicles.head()"
   ]
  },
  {
   "cell_type": "code",
   "execution_count": 10,
   "metadata": {
    "tags": []
   },
   "outputs": [
    {
     "output_type": "stream",
     "name": "stdout",
     "text": "Index(['vin', 'price', 'condition', 'fuel', 'size', 'type', 'odometer',\n       'state', 'lat', 'long'],\n      dtype='object')\n"
    }
   ],
   "source": [
    "print(vehicles.columns)"
   ]
  },
  {
   "cell_type": "code",
   "execution_count": 11,
   "metadata": {
    "tags": []
   },
   "outputs": [
    {
     "output_type": "stream",
     "name": "stdout",
     "text": "Index(['Vin', 'Year', 'Make', 'Model', 'Style', 'Type', 'Doors', 'Fuel Type',\n       'City Mileage', 'Highway Mileage', 'Engine Type', 'Transmission',\n       'Drivetrain', 'MSRP'],\n      dtype='object')\n"
    }
   ],
   "source": [
    "print(api.columns)"
   ]
  },
  {
   "cell_type": "code",
   "execution_count": 15,
   "metadata": {},
   "outputs": [],
   "source": [
    "#  remove type from vehicles\n",
    "vehicles_clean = vehicles[['vin', 'price', 'condition', 'fuel', 'size','odometer','state', 'lat', 'long']]\n"
   ]
  },
  {
   "cell_type": "code",
   "execution_count": 17,
   "metadata": {},
   "outputs": [
    {
     "output_type": "execute_result",
     "data": {
      "text/plain": "                 Vin  Year       Make                  Model  \\\n0  1GTHK23D57F102022  2007        GMC  Sierra Classic 2500HD   \n1  1GTHK23D57F102022  2007        GMC  Sierra Classic 2500HD   \n2  1FTFW1ET4CFC98801  2012       Ford                  F-150   \n3  1FTFW1ET4CFC98801  2012       Ford                  F-150   \n4  2CNFLGEW7A6215676  2010  Chevrolet                Equinox   \n\n                  Style                                               Type  \\\n0  CREW CAB PICKUP 4-DR                                             Pickup   \n1  CREW CAB PICKUP 4-DR                                             Pickup   \n2  CREW CAB PICKUP 4-DR                                             Pickup   \n3  CREW CAB PICKUP 4-DR                                             Pickup   \n4    SPORT UTILITY 4-DR  Sport Utility Vehicle (SUV)/Multi-Purpose Vehi...   \n\n   Doors Fuel Type          City Mileage       Highway Mileage  ...  \\\n0    4.0  Gasoline                   NaN                   NaN  ...   \n1    4.0  Gasoline                   NaN                   NaN  ...   \n2    NaN  Gasoline  14 - 15 miles/gallon  19 - 21 miles/gallon  ...   \n3    NaN  Gasoline  14 - 15 miles/gallon  19 - 21 miles/gallon  ...   \n4    4.0  Gasoline  17 - 20 miles/gallon  24 - 27 miles/gallon  ...   \n\n  Drivetrain         MSRP  price condition    fuel       size  odometer state  \\\n0        4WD  $32,690 USD  16995      good  diesel  full-size  254217.0    mn   \n1        4WD  $32,690 USD  16995      good  diesel  full-size  254217.0    wi   \n2        4WD  $39,960 USD  13995      good     gas  full-size  188406.0    mn   \n3        4WD  $39,960 USD  13995      good     gas  full-size  188406.0    wi   \n4        AWD  $29,795 USD   7995      good     gas  full-size  108124.0    mn   \n\n       lat     long  \n0  45.6836 -92.9648  \n1  45.6836 -92.9648  \n2  45.6836 -92.9648  \n3  45.6836 -92.9648  \n4  45.6836 -92.9648  \n\n[5 rows x 22 columns]",
      "text/html": "<div>\n<style scoped>\n    .dataframe tbody tr th:only-of-type {\n        vertical-align: middle;\n    }\n\n    .dataframe tbody tr th {\n        vertical-align: top;\n    }\n\n    .dataframe thead th {\n        text-align: right;\n    }\n</style>\n<table border=\"1\" class=\"dataframe\">\n  <thead>\n    <tr style=\"text-align: right;\">\n      <th></th>\n      <th>Vin</th>\n      <th>Year</th>\n      <th>Make</th>\n      <th>Model</th>\n      <th>Style</th>\n      <th>Type</th>\n      <th>Doors</th>\n      <th>Fuel Type</th>\n      <th>City Mileage</th>\n      <th>Highway Mileage</th>\n      <th>...</th>\n      <th>Drivetrain</th>\n      <th>MSRP</th>\n      <th>price</th>\n      <th>condition</th>\n      <th>fuel</th>\n      <th>size</th>\n      <th>odometer</th>\n      <th>state</th>\n      <th>lat</th>\n      <th>long</th>\n    </tr>\n  </thead>\n  <tbody>\n    <tr>\n      <th>0</th>\n      <td>1GTHK23D57F102022</td>\n      <td>2007</td>\n      <td>GMC</td>\n      <td>Sierra Classic 2500HD</td>\n      <td>CREW CAB PICKUP 4-DR</td>\n      <td>Pickup</td>\n      <td>4.0</td>\n      <td>Gasoline</td>\n      <td>NaN</td>\n      <td>NaN</td>\n      <td>...</td>\n      <td>4WD</td>\n      <td>$32,690 USD</td>\n      <td>16995</td>\n      <td>good</td>\n      <td>diesel</td>\n      <td>full-size</td>\n      <td>254217.0</td>\n      <td>mn</td>\n      <td>45.6836</td>\n      <td>-92.9648</td>\n    </tr>\n    <tr>\n      <th>1</th>\n      <td>1GTHK23D57F102022</td>\n      <td>2007</td>\n      <td>GMC</td>\n      <td>Sierra Classic 2500HD</td>\n      <td>CREW CAB PICKUP 4-DR</td>\n      <td>Pickup</td>\n      <td>4.0</td>\n      <td>Gasoline</td>\n      <td>NaN</td>\n      <td>NaN</td>\n      <td>...</td>\n      <td>4WD</td>\n      <td>$32,690 USD</td>\n      <td>16995</td>\n      <td>good</td>\n      <td>diesel</td>\n      <td>full-size</td>\n      <td>254217.0</td>\n      <td>wi</td>\n      <td>45.6836</td>\n      <td>-92.9648</td>\n    </tr>\n    <tr>\n      <th>2</th>\n      <td>1FTFW1ET4CFC98801</td>\n      <td>2012</td>\n      <td>Ford</td>\n      <td>F-150</td>\n      <td>CREW CAB PICKUP 4-DR</td>\n      <td>Pickup</td>\n      <td>NaN</td>\n      <td>Gasoline</td>\n      <td>14 - 15 miles/gallon</td>\n      <td>19 - 21 miles/gallon</td>\n      <td>...</td>\n      <td>4WD</td>\n      <td>$39,960 USD</td>\n      <td>13995</td>\n      <td>good</td>\n      <td>gas</td>\n      <td>full-size</td>\n      <td>188406.0</td>\n      <td>mn</td>\n      <td>45.6836</td>\n      <td>-92.9648</td>\n    </tr>\n    <tr>\n      <th>3</th>\n      <td>1FTFW1ET4CFC98801</td>\n      <td>2012</td>\n      <td>Ford</td>\n      <td>F-150</td>\n      <td>CREW CAB PICKUP 4-DR</td>\n      <td>Pickup</td>\n      <td>NaN</td>\n      <td>Gasoline</td>\n      <td>14 - 15 miles/gallon</td>\n      <td>19 - 21 miles/gallon</td>\n      <td>...</td>\n      <td>4WD</td>\n      <td>$39,960 USD</td>\n      <td>13995</td>\n      <td>good</td>\n      <td>gas</td>\n      <td>full-size</td>\n      <td>188406.0</td>\n      <td>wi</td>\n      <td>45.6836</td>\n      <td>-92.9648</td>\n    </tr>\n    <tr>\n      <th>4</th>\n      <td>2CNFLGEW7A6215676</td>\n      <td>2010</td>\n      <td>Chevrolet</td>\n      <td>Equinox</td>\n      <td>SPORT UTILITY 4-DR</td>\n      <td>Sport Utility Vehicle (SUV)/Multi-Purpose Vehi...</td>\n      <td>4.0</td>\n      <td>Gasoline</td>\n      <td>17 - 20 miles/gallon</td>\n      <td>24 - 27 miles/gallon</td>\n      <td>...</td>\n      <td>AWD</td>\n      <td>$29,795 USD</td>\n      <td>7995</td>\n      <td>good</td>\n      <td>gas</td>\n      <td>full-size</td>\n      <td>108124.0</td>\n      <td>mn</td>\n      <td>45.6836</td>\n      <td>-92.9648</td>\n    </tr>\n  </tbody>\n</table>\n<p>5 rows × 22 columns</p>\n</div>"
     },
     "metadata": {},
     "execution_count": 17
    }
   ],
   "source": [
    "merged_data = pd.merge(api, vehicles_clean, left_on='Vin', right_on='vin')\n",
    "del merged_data['vin']\n",
    "merged_data.head()"
   ]
  },
  {
   "cell_type": "code",
   "execution_count": 18,
   "metadata": {},
   "outputs": [],
   "source": [
    "#  output merged csv\n",
    "merged_data.to_csv('../Car API Call/merged_data.csv', index=False)"
   ]
  },
  {
   "cell_type": "code",
   "execution_count": null,
   "metadata": {},
   "outputs": [],
   "source": []
  }
 ]
}